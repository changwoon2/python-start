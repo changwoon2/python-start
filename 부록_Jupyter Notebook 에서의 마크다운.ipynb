{
 "cells": [
  {
   "cell_type": "markdown",
   "metadata": {},
   "source": [
    "ESC 키를 누르고, m 키를 클릭하면 해당 셀 처럼 왼쪽의 In [ ]: 표시가 사라집니다.\n",
    "\n",
    "이때, 해당 셀에서는 마크다운 문법을 이용하여 Jupyter Notebook 을 꾸밀 수 있습니다."
   ]
  },
  {
   "cell_type": "markdown",
   "metadata": {},
   "source": [
    "# # 하나를 쓰고 띄워쓰기를 하면 다음과 같이 를 쓸 수 있습니다.\n",
    "## # 두개\n",
    "### ### 세개\n",
    "#### #### 네개\n",
    "##### ##### 다섯개"
   ]
  },
  {
   "cell_type": "markdown",
   "metadata": {},
   "source": [
    "strong 태그를 이용하여 <strong>강조</strong>가 가능합니다\n",
    "\n",
    "\\*\\*를 이용하여 이렇게도 **강조**를 쓸 수 있습니다."
   ]
  },
  {
   "cell_type": "markdown",
   "metadata": {},
   "source": [
    "*이텔릭체* 는 *를 이용하여 사용 가능합니다"
   ]
  },
  {
   "cell_type": "markdown",
   "metadata": {},
   "source": [
    "u 태그를 이용하여 <u>밑줄</u> 을 쓸 수 있습니다."
   ]
  },
  {
   "cell_type": "markdown",
   "metadata": {},
   "source": [
    "링크 : [네이버](www.naver.com)"
   ]
  },
  {
   "cell_type": "markdown",
   "metadata": {},
   "source": [
    ">  블록\n",
    "> > 블록2\n",
    "> > > 블록3"
   ]
  },
  {
   "cell_type": "markdown",
   "metadata": {},
   "source": [
    "이미지는 이렇게...\n",
    "![파이썬](https://www.python.org/static/img/python-logo@2x.png)"
   ]
  },
  {
   "cell_type": "markdown",
   "metadata": {},
   "source": [
    "___"
   ]
  },
  {
   "cell_type": "markdown",
   "metadata": {},
   "source": [
    "***"
   ]
  },
  {
   "cell_type": "markdown",
   "metadata": {},
   "source": [
    "---"
   ]
  }
 ],
 "metadata": {
  "kernelspec": {
   "display_name": "Python 3",
   "language": "python",
   "name": "python3"
  },
  "language_info": {
   "codemirror_mode": {
    "name": "ipython",
    "version": 3
   },
   "file_extension": ".py",
   "mimetype": "text/x-python",
   "name": "python",
   "nbconvert_exporter": "python",
   "pygments_lexer": "ipython3",
   "version": "3.11.1"
  },
  "vscode": {
   "interpreter": {
    "hash": "5c7b89af1651d0b8571dde13640ecdccf7d5a6204171d6ab33e7c296e100e08a"
   }
  }
 },
 "nbformat": 4,
 "nbformat_minor": 4
}
